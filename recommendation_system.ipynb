{
 "cells": [
  {
   "cell_type": "markdown",
   "id": "82d89949-6d90-40f7-9abf-e350b11597e7",
   "metadata": {},
   "source": [
    "# Valence-Arousal-Recommendation System"
   ]
  },
  {
   "cell_type": "markdown",
   "id": "85ce83f8-7587-4624-a090-3929595dd39d",
   "metadata": {},
   "source": [
    "In this notebook, we use a dataset featuring around 12,000 Spotify tracks, each with a `valence` and an `energy` value, to build a simple mood-based recommendation system."
   ]
  },
  {
   "cell_type": "code",
   "execution_count": 8,
   "id": "580d4c1d-57b1-4c23-b581-92b1a6c50d14",
   "metadata": {},
   "outputs": [],
   "source": [
    "import pandas as pd\n",
    "import random\n",
    "import authorization\n",
    "import numpy as np\n",
    "from numpy.linalg import norm"
   ]
  },
  {
   "cell_type": "markdown",
   "id": "78e1fa52-1228-440e-b94c-471d24c208ac",
   "metadata": {},
   "source": [
    "## 1. Preparations"
   ]
  },
  {
   "cell_type": "markdown",
   "id": "b177e4ad-190b-44b9-a556-301344f48a9e",
   "metadata": {},
   "source": [
    "__Load Data__"
   ]
  },
  {
   "cell_type": "code",
   "execution_count": 3,
   "id": "bd9a61bb-fbff-49c0-b647-592a5bf365c2",
   "metadata": {},
   "outputs": [
    {
     "name": "stdout",
     "output_type": "stream",
     "text": [
      "(11091, 6)\n"
     ]
    },
    {
     "data": {
      "text/html": [
       "<div>\n",
       "<style scoped>\n",
       "    .dataframe tbody tr th:only-of-type {\n",
       "        vertical-align: middle;\n",
       "    }\n",
       "\n",
       "    .dataframe tbody tr th {\n",
       "        vertical-align: top;\n",
       "    }\n",
       "\n",
       "    .dataframe thead th {\n",
       "        text-align: right;\n",
       "    }\n",
       "</style>\n",
       "<table border=\"1\" class=\"dataframe\">\n",
       "  <thead>\n",
       "    <tr style=\"text-align: right;\">\n",
       "      <th></th>\n",
       "      <th>id</th>\n",
       "      <th>genre</th>\n",
       "      <th>track_name</th>\n",
       "      <th>artist_name</th>\n",
       "      <th>valence</th>\n",
       "      <th>energy</th>\n",
       "    </tr>\n",
       "  </thead>\n",
       "  <tbody>\n",
       "    <tr>\n",
       "      <th>0</th>\n",
       "      <td>7DneDMOlQ1ol2bd2tWukd2</td>\n",
       "      <td>acoustic</td>\n",
       "      <td>Mercy - Radio 1 Live Lounge Session (Duffy cover)</td>\n",
       "      <td>OneRepublic</td>\n",
       "      <td>0.815</td>\n",
       "      <td>0.530</td>\n",
       "    </tr>\n",
       "    <tr>\n",
       "      <th>1</th>\n",
       "      <td>2CjMm3TDd9BS8xAcvbe6yY</td>\n",
       "      <td>acoustic</td>\n",
       "      <td>Let Her Go (feat. Hannah Trigwell)</td>\n",
       "      <td>Boyce Avenue</td>\n",
       "      <td>0.307</td>\n",
       "      <td>0.333</td>\n",
       "    </tr>\n",
       "    <tr>\n",
       "      <th>2</th>\n",
       "      <td>0O36Yqb2aFcThBphczYoAY</td>\n",
       "      <td>acoustic</td>\n",
       "      <td>A Drop In The Ocean</td>\n",
       "      <td>Ron Pope</td>\n",
       "      <td>0.473</td>\n",
       "      <td>0.452</td>\n",
       "    </tr>\n",
       "    <tr>\n",
       "      <th>3</th>\n",
       "      <td>5GCgC77m6EaAqu7ZlukMu2</td>\n",
       "      <td>acoustic</td>\n",
       "      <td>Umbrella</td>\n",
       "      <td>Train</td>\n",
       "      <td>0.627</td>\n",
       "      <td>0.849</td>\n",
       "    </tr>\n",
       "    <tr>\n",
       "      <th>4</th>\n",
       "      <td>37z3ghNvcoPvHypKWTb2Sz</td>\n",
       "      <td>acoustic</td>\n",
       "      <td>Left for America</td>\n",
       "      <td>Ciaran Lavery</td>\n",
       "      <td>0.250</td>\n",
       "      <td>0.384</td>\n",
       "    </tr>\n",
       "  </tbody>\n",
       "</table>\n",
       "</div>"
      ],
      "text/plain": [
       "                       id     genre  \\\n",
       "0  7DneDMOlQ1ol2bd2tWukd2  acoustic   \n",
       "1  2CjMm3TDd9BS8xAcvbe6yY  acoustic   \n",
       "2  0O36Yqb2aFcThBphczYoAY  acoustic   \n",
       "3  5GCgC77m6EaAqu7ZlukMu2  acoustic   \n",
       "4  37z3ghNvcoPvHypKWTb2Sz  acoustic   \n",
       "\n",
       "                                          track_name    artist_name  valence  \\\n",
       "0  Mercy - Radio 1 Live Lounge Session (Duffy cover)    OneRepublic    0.815   \n",
       "1                 Let Her Go (feat. Hannah Trigwell)   Boyce Avenue    0.307   \n",
       "2                                A Drop In The Ocean       Ron Pope    0.473   \n",
       "3                                           Umbrella          Train    0.627   \n",
       "4                                   Left for America  Ciaran Lavery    0.250   \n",
       "\n",
       "   energy  \n",
       "0   0.530  \n",
       "1   0.333  \n",
       "2   0.452  \n",
       "3   0.849  \n",
       "4   0.384  "
      ]
     },
     "execution_count": 3,
     "metadata": {},
     "output_type": "execute_result"
    }
   ],
   "source": [
    "df = pd.read_csv(\"valence_arousal_dataset.csv\")\n",
    "print(df.shape)\n",
    "df.head()"
   ]
  },
  {
   "cell_type": "markdown",
   "id": "86148598-e2b6-4f5a-880b-2394cb9390eb",
   "metadata": {},
   "source": [
    "In order to compute distances between two tracks, we need to transform the seperate `valence`and `energy` columns to a `mood-vector` column.\n",
    "This can be done by using `df.apply()` alongside a lambda function."
   ]
  },
  {
   "cell_type": "markdown",
   "id": "cc01fd23-c471-47cd-84ed-87810b74f98d",
   "metadata": {},
   "source": [
    "__Create Mood Vector__"
   ]
  },
  {
   "cell_type": "code",
   "execution_count": 4,
   "id": "f68c8b85-fb47-4b3e-9067-fc14298188d1",
   "metadata": {},
   "outputs": [
    {
     "data": {
      "text/plain": [
       "0     [0.815, 0.53]\n",
       "1    [0.307, 0.333]\n",
       "2    [0.473, 0.452]\n",
       "3    [0.627, 0.849]\n",
       "4     [0.25, 0.384]\n",
       "Name: mood_vec, dtype: object"
      ]
     },
     "execution_count": 4,
     "metadata": {},
     "output_type": "execute_result"
    }
   ],
   "source": [
    "df[\"mood_vec\"] = df[[\"valence\", \"energy\"]].values.tolist()\n",
    "df[\"mood_vec\"].head()"
   ]
  },
  {
   "cell_type": "markdown",
   "id": "49daca0b-b6f1-4ed9-a6c4-a8e9c04032be",
   "metadata": {},
   "source": [
    "__Authorize Spotify API Access__"
   ]
  },
  {
   "cell_type": "code",
   "execution_count": 22,
   "id": "9cc71ba4-c757-4bef-84f0-4bfd970e67ab",
   "metadata": {},
   "outputs": [],
   "source": [
    "sp = authorization.authorize() # Use the authorization script provided earlier in the blog post"
   ]
  },
  {
   "cell_type": "markdown",
   "id": "adebb2ff-1508-4d7b-ab56-6cc91357b629",
   "metadata": {},
   "source": [
    "## 2. Recommendation Algorithm"
   ]
  },
  {
   "cell_type": "markdown",
   "id": "babbe272-6c90-4c3f-8465-4fc6a4d562f3",
   "metadata": {},
   "source": [
    "The algorithm that finds similar tracks to a given input track is now very simple. \n",
    "1. Crawl the track's `valence` and `energy` values from the Spotify API.\n",
    "2. Compute the distances of the input track to each track in the reference dataset.\n",
    "3. Sort the reference track from lowest to highest distance.\n",
    "4. Return the `n` most similar tracks."
   ]
  },
  {
   "cell_type": "code",
   "execution_count": 45,
   "id": "8aa3bab0-2ad6-4b01-b0ea-9a369c8e0ed4",
   "metadata": {},
   "outputs": [],
   "source": [
    "def recommend(track_id, ref_df, sp, n_recs = 5):\n",
    "    \n",
    "    # Crawl valence and arousal of given track from spotify api\n",
    "    track_features = sp.track_audio_features(track_id)\n",
    "    track_moodvec = np.array([track_features.valence, track_features.energy])\n",
    "    print(f\"mood_vec for {track_id}: {track_moodvec}\")\n",
    "    \n",
    "    # Compute distances to all reference tracks\n",
    "    ref_df[\"distances\"] = ref_df[\"mood_vec\"].apply(lambda x: norm(track_moodvec-np.array(x)))\n",
    "    # Sort distances from lowest to highest\n",
    "    ref_df_sorted = ref_df.sort_values(by = \"distances\", ascending = True)\n",
    "    # If the input track is in the reference set, it will have a distance of 0, but should not be recommendet\n",
    "    ref_df_sorted = ref_df_sorted[ref_df_sorted[\"id\"] != track_id]\n",
    "    \n",
    "    # Return n recommendations\n",
    "    return ref_df_sorted.iloc[:n_recs]"
   ]
  },
  {
   "cell_type": "markdown",
   "id": "6611c603-045f-4254-b7d1-0799cb8ae8ae",
   "metadata": {},
   "source": [
    "Let us try it out using some random tracks from our dataset."
   ]
  },
  {
   "cell_type": "code",
   "execution_count": 47,
   "id": "ffce8ebc-1370-43ec-8040-430d5b7c80b9",
   "metadata": {},
   "outputs": [
    {
     "name": "stdout",
     "output_type": "stream",
     "text": [
      "mood_vec for 2eFpNOUGhlyScJIJwbq1E7: [0.221 0.998]\n"
     ]
    },
    {
     "data": {
      "text/html": [
       "<div>\n",
       "<style scoped>\n",
       "    .dataframe tbody tr th:only-of-type {\n",
       "        vertical-align: middle;\n",
       "    }\n",
       "\n",
       "    .dataframe tbody tr th {\n",
       "        vertical-align: top;\n",
       "    }\n",
       "\n",
       "    .dataframe thead th {\n",
       "        text-align: right;\n",
       "    }\n",
       "</style>\n",
       "<table border=\"1\" class=\"dataframe\">\n",
       "  <thead>\n",
       "    <tr style=\"text-align: right;\">\n",
       "      <th></th>\n",
       "      <th>id</th>\n",
       "      <th>genre</th>\n",
       "      <th>track_name</th>\n",
       "      <th>artist_name</th>\n",
       "      <th>valence</th>\n",
       "      <th>energy</th>\n",
       "      <th>mood_vec</th>\n",
       "      <th>distances</th>\n",
       "    </tr>\n",
       "  </thead>\n",
       "  <tbody>\n",
       "    <tr>\n",
       "      <th>8551</th>\n",
       "      <td>1R1yJO9oVNcq1ae8AZH0kT</td>\n",
       "      <td>punk</td>\n",
       "      <td>Quicksand</td>\n",
       "      <td>The Story So Far</td>\n",
       "      <td>0.223</td>\n",
       "      <td>0.995</td>\n",
       "      <td>[0.223, 0.995]</td>\n",
       "      <td>0.003606</td>\n",
       "    </tr>\n",
       "    <tr>\n",
       "      <th>4068</th>\n",
       "      <td>3VFm6SnmdlTR5AtW5lNbuu</td>\n",
       "      <td>grindcore</td>\n",
       "      <td>Repression Out Of Uniform</td>\n",
       "      <td>Napalm Death</td>\n",
       "      <td>0.221</td>\n",
       "      <td>0.994</td>\n",
       "      <td>[0.221, 0.994]</td>\n",
       "      <td>0.004000</td>\n",
       "    </tr>\n",
       "    <tr>\n",
       "      <th>636</th>\n",
       "      <td>5siwqJepQkbKKaAmLRveYY</td>\n",
       "      <td>black-metal</td>\n",
       "      <td>Retribution - Storm Of The Light's Bane</td>\n",
       "      <td>Dissection</td>\n",
       "      <td>0.223</td>\n",
       "      <td>0.993</td>\n",
       "      <td>[0.223, 0.993]</td>\n",
       "      <td>0.005385</td>\n",
       "    </tr>\n",
       "    <tr>\n",
       "      <th>7051</th>\n",
       "      <td>7nPQ3oS7C3opzuxofBhw5k</td>\n",
       "      <td>metalcore</td>\n",
       "      <td>Through the Darkest Dark and Brightest Bright</td>\n",
       "      <td>We Came As Romans</td>\n",
       "      <td>0.217</td>\n",
       "      <td>0.992</td>\n",
       "      <td>[0.217, 0.992]</td>\n",
       "      <td>0.007211</td>\n",
       "    </tr>\n",
       "    <tr>\n",
       "      <th>4669</th>\n",
       "      <td>3ha9AklaYxF0TjACgmtAin</td>\n",
       "      <td>hardcore</td>\n",
       "      <td>Billy</td>\n",
       "      <td>Bad Religion</td>\n",
       "      <td>0.230</td>\n",
       "      <td>0.993</td>\n",
       "      <td>[0.23, 0.993]</td>\n",
       "      <td>0.010296</td>\n",
       "    </tr>\n",
       "  </tbody>\n",
       "</table>\n",
       "</div>"
      ],
      "text/plain": [
       "                          id        genre  \\\n",
       "8551  1R1yJO9oVNcq1ae8AZH0kT         punk   \n",
       "4068  3VFm6SnmdlTR5AtW5lNbuu    grindcore   \n",
       "636   5siwqJepQkbKKaAmLRveYY  black-metal   \n",
       "7051  7nPQ3oS7C3opzuxofBhw5k    metalcore   \n",
       "4669  3ha9AklaYxF0TjACgmtAin     hardcore   \n",
       "\n",
       "                                         track_name        artist_name  \\\n",
       "8551                                      Quicksand   The Story So Far   \n",
       "4068                      Repression Out Of Uniform       Napalm Death   \n",
       "636         Retribution - Storm Of The Light's Bane         Dissection   \n",
       "7051  Through the Darkest Dark and Brightest Bright  We Came As Romans   \n",
       "4669                                          Billy       Bad Religion   \n",
       "\n",
       "      valence  energy        mood_vec  distances  \n",
       "8551    0.223   0.995  [0.223, 0.995]   0.003606  \n",
       "4068    0.221   0.994  [0.221, 0.994]   0.004000  \n",
       "636     0.223   0.993  [0.223, 0.993]   0.005385  \n",
       "7051    0.217   0.992  [0.217, 0.992]   0.007211  \n",
       "4669    0.230   0.993   [0.23, 0.993]   0.010296  "
      ]
     },
     "execution_count": 47,
     "metadata": {},
     "output_type": "execute_result"
    }
   ],
   "source": [
    "track1 = random.choice(df[\"id\"])\n",
    "recommend(track_id = track1, ref_df = df, sp = sp, n_recs = 5)"
   ]
  },
  {
   "cell_type": "code",
   "execution_count": 48,
   "id": "c7442c67-2074-41de-a8c3-0aa633608854",
   "metadata": {},
   "outputs": [
    {
     "name": "stdout",
     "output_type": "stream",
     "text": [
      "mood_vec for 3JOVTQ5h8HGFnDdp4VT3MP: [0.304  0.0581]\n"
     ]
    },
    {
     "data": {
      "text/html": [
       "<div>\n",
       "<style scoped>\n",
       "    .dataframe tbody tr th:only-of-type {\n",
       "        vertical-align: middle;\n",
       "    }\n",
       "\n",
       "    .dataframe tbody tr th {\n",
       "        vertical-align: top;\n",
       "    }\n",
       "\n",
       "    .dataframe thead th {\n",
       "        text-align: right;\n",
       "    }\n",
       "</style>\n",
       "<table border=\"1\" class=\"dataframe\">\n",
       "  <thead>\n",
       "    <tr style=\"text-align: right;\">\n",
       "      <th></th>\n",
       "      <th>id</th>\n",
       "      <th>genre</th>\n",
       "      <th>track_name</th>\n",
       "      <th>artist_name</th>\n",
       "      <th>valence</th>\n",
       "      <th>energy</th>\n",
       "      <th>mood_vec</th>\n",
       "      <th>distances</th>\n",
       "    </tr>\n",
       "  </thead>\n",
       "  <tbody>\n",
       "    <tr>\n",
       "      <th>4980</th>\n",
       "      <td>2WP3DiCNEhMu7yNG8CxORz</td>\n",
       "      <td>holidays</td>\n",
       "      <td>Glory Manger</td>\n",
       "      <td>Harry Belafonte</td>\n",
       "      <td>0.306</td>\n",
       "      <td>0.0535</td>\n",
       "      <td>[0.306, 0.0535]</td>\n",
       "      <td>0.005016</td>\n",
       "    </tr>\n",
       "    <tr>\n",
       "      <th>2703</th>\n",
       "      <td>0tgZmJoPVxLuQ4T6bILgSs</td>\n",
       "      <td>disney</td>\n",
       "      <td>Just When I Brought You a Mother / Banished</td>\n",
       "      <td>Various Artists</td>\n",
       "      <td>0.316</td>\n",
       "      <td>0.0478</td>\n",
       "      <td>[0.316, 0.0478]</td>\n",
       "      <td>0.015814</td>\n",
       "    </tr>\n",
       "    <tr>\n",
       "      <th>1583</th>\n",
       "      <td>4dHEQ1W1jRmNjjB0S7vB8V</td>\n",
       "      <td>chill</td>\n",
       "      <td>re:stacks</td>\n",
       "      <td>Bon Iver</td>\n",
       "      <td>0.304</td>\n",
       "      <td>0.0813</td>\n",
       "      <td>[0.304, 0.0813]</td>\n",
       "      <td>0.023200</td>\n",
       "    </tr>\n",
       "    <tr>\n",
       "      <th>1707</th>\n",
       "      <td>1Org5XClvfulvp1mrLUQuT</td>\n",
       "      <td>classical</td>\n",
       "      <td>Symphonie fantastique, Op. 14: IV. Marche au s...</td>\n",
       "      <td>Hector Berlioz</td>\n",
       "      <td>0.285</td>\n",
       "      <td>0.0765</td>\n",
       "      <td>[0.285, 0.0765]</td>\n",
       "      <td>0.026449</td>\n",
       "    </tr>\n",
       "    <tr>\n",
       "      <th>7897</th>\n",
       "      <td>1XXAqff63KKumpw6plBqgL</td>\n",
       "      <td>piano</td>\n",
       "      <td>O My Father</td>\n",
       "      <td>Paul Cardall</td>\n",
       "      <td>0.297</td>\n",
       "      <td>0.0310</td>\n",
       "      <td>[0.297, 0.031]</td>\n",
       "      <td>0.027989</td>\n",
       "    </tr>\n",
       "  </tbody>\n",
       "</table>\n",
       "</div>"
      ],
      "text/plain": [
       "                          id      genre  \\\n",
       "4980  2WP3DiCNEhMu7yNG8CxORz   holidays   \n",
       "2703  0tgZmJoPVxLuQ4T6bILgSs     disney   \n",
       "1583  4dHEQ1W1jRmNjjB0S7vB8V      chill   \n",
       "1707  1Org5XClvfulvp1mrLUQuT  classical   \n",
       "7897  1XXAqff63KKumpw6plBqgL      piano   \n",
       "\n",
       "                                             track_name      artist_name  \\\n",
       "4980                                       Glory Manger  Harry Belafonte   \n",
       "2703        Just When I Brought You a Mother / Banished  Various Artists   \n",
       "1583                                          re:stacks         Bon Iver   \n",
       "1707  Symphonie fantastique, Op. 14: IV. Marche au s...   Hector Berlioz   \n",
       "7897                                        O My Father     Paul Cardall   \n",
       "\n",
       "      valence  energy         mood_vec  distances  \n",
       "4980    0.306  0.0535  [0.306, 0.0535]   0.005016  \n",
       "2703    0.316  0.0478  [0.316, 0.0478]   0.015814  \n",
       "1583    0.304  0.0813  [0.304, 0.0813]   0.023200  \n",
       "1707    0.285  0.0765  [0.285, 0.0765]   0.026449  \n",
       "7897    0.297  0.0310   [0.297, 0.031]   0.027989  "
      ]
     },
     "execution_count": 48,
     "metadata": {},
     "output_type": "execute_result"
    }
   ],
   "source": [
    "mad_world = \"3JOVTQ5h8HGFnDdp4VT3MP\"\n",
    "recommend(track_id = mad_world, ref_df = df, sp = sp, n_recs = 5)"
   ]
  },
  {
   "cell_type": "code",
   "execution_count": 49,
   "id": "9a630013-f7ec-487a-a3a0-3369534e5cbd",
   "metadata": {},
   "outputs": [
    {
     "name": "stdout",
     "output_type": "stream",
     "text": [
      "mood_vec for 37BTh5g05cxBIRYMbw8g2T: [0.739 0.513]\n"
     ]
    },
    {
     "data": {
      "text/html": [
       "<div>\n",
       "<style scoped>\n",
       "    .dataframe tbody tr th:only-of-type {\n",
       "        vertical-align: middle;\n",
       "    }\n",
       "\n",
       "    .dataframe tbody tr th {\n",
       "        vertical-align: top;\n",
       "    }\n",
       "\n",
       "    .dataframe thead th {\n",
       "        text-align: right;\n",
       "    }\n",
       "</style>\n",
       "<table border=\"1\" class=\"dataframe\">\n",
       "  <thead>\n",
       "    <tr style=\"text-align: right;\">\n",
       "      <th></th>\n",
       "      <th>id</th>\n",
       "      <th>genre</th>\n",
       "      <th>track_name</th>\n",
       "      <th>artist_name</th>\n",
       "      <th>valence</th>\n",
       "      <th>energy</th>\n",
       "      <th>mood_vec</th>\n",
       "      <th>distances</th>\n",
       "    </tr>\n",
       "  </thead>\n",
       "  <tbody>\n",
       "    <tr>\n",
       "      <th>6590</th>\n",
       "      <td>7ctLV5QnYVq3V89EK3XNsa</td>\n",
       "      <td>latin</td>\n",
       "      <td>Sentimientos De Cartón</td>\n",
       "      <td>Duelo</td>\n",
       "      <td>0.740</td>\n",
       "      <td>0.504</td>\n",
       "      <td>[0.74, 0.504]</td>\n",
       "      <td>0.009055</td>\n",
       "    </tr>\n",
       "    <tr>\n",
       "      <th>6514</th>\n",
       "      <td>2lENjjnvVaHFdfs7Zz02lp</td>\n",
       "      <td>kids</td>\n",
       "      <td>Jack Tar on Shore - with Broken Social Scene</td>\n",
       "      <td>Various Artists</td>\n",
       "      <td>0.747</td>\n",
       "      <td>0.507</td>\n",
       "      <td>[0.747, 0.507]</td>\n",
       "      <td>0.010000</td>\n",
       "    </tr>\n",
       "    <tr>\n",
       "      <th>10474</th>\n",
       "      <td>0fbyHCbGs4F9B8I2BqAvOq</td>\n",
       "      <td>swedish</td>\n",
       "      <td>Ett Snedsteg Bort</td>\n",
       "      <td>Kapten Röd</td>\n",
       "      <td>0.727</td>\n",
       "      <td>0.512</td>\n",
       "      <td>[0.727, 0.512]</td>\n",
       "      <td>0.012042</td>\n",
       "    </tr>\n",
       "    <tr>\n",
       "      <th>6548</th>\n",
       "      <td>17LxkTp8UNbPcYrDrI6UOq</td>\n",
       "      <td>latin</td>\n",
       "      <td>Contigo Siempre</td>\n",
       "      <td>Alejandro Fernández</td>\n",
       "      <td>0.731</td>\n",
       "      <td>0.503</td>\n",
       "      <td>[0.731, 0.503]</td>\n",
       "      <td>0.012806</td>\n",
       "    </tr>\n",
       "    <tr>\n",
       "      <th>11054</th>\n",
       "      <td>2qudLQVpY4JV1eq7ned5v1</td>\n",
       "      <td>world-music</td>\n",
       "      <td>Amor Verdadero</td>\n",
       "      <td>Afro-Cuban All Stars</td>\n",
       "      <td>0.745</td>\n",
       "      <td>0.501</td>\n",
       "      <td>[0.745, 0.501]</td>\n",
       "      <td>0.013416</td>\n",
       "    </tr>\n",
       "  </tbody>\n",
       "</table>\n",
       "</div>"
      ],
      "text/plain": [
       "                           id        genre  \\\n",
       "6590   7ctLV5QnYVq3V89EK3XNsa        latin   \n",
       "6514   2lENjjnvVaHFdfs7Zz02lp         kids   \n",
       "10474  0fbyHCbGs4F9B8I2BqAvOq      swedish   \n",
       "6548   17LxkTp8UNbPcYrDrI6UOq        latin   \n",
       "11054  2qudLQVpY4JV1eq7ned5v1  world-music   \n",
       "\n",
       "                                         track_name           artist_name  \\\n",
       "6590                         Sentimientos De Cartón                 Duelo   \n",
       "6514   Jack Tar on Shore - with Broken Social Scene       Various Artists   \n",
       "10474                             Ett Snedsteg Bort            Kapten Röd   \n",
       "6548                                Contigo Siempre   Alejandro Fernández   \n",
       "11054                                Amor Verdadero  Afro-Cuban All Stars   \n",
       "\n",
       "       valence  energy        mood_vec  distances  \n",
       "6590     0.740   0.504   [0.74, 0.504]   0.009055  \n",
       "6514     0.747   0.507  [0.747, 0.507]   0.010000  \n",
       "10474    0.727   0.512  [0.727, 0.512]   0.012042  \n",
       "6548     0.731   0.503  [0.731, 0.503]   0.012806  \n",
       "11054    0.745   0.501  [0.745, 0.501]   0.013416  "
      ]
     },
     "execution_count": 49,
     "metadata": {},
     "output_type": "execute_result"
    }
   ],
   "source": [
    "rosanna = \"37BTh5g05cxBIRYMbw8g2T\"\n",
    "recommend(track_id = rosanna, ref_df = df, sp = sp, n_recs = 5)"
   ]
  }
 ],
 "metadata": {
  "kernelspec": {
   "display_name": "Python 3",
   "language": "python",
   "name": "python3"
  },
  "language_info": {
   "codemirror_mode": {
    "name": "ipython",
    "version": 3
   },
   "file_extension": ".py",
   "mimetype": "text/x-python",
   "name": "python",
   "nbconvert_exporter": "python",
   "pygments_lexer": "ipython3",
   "version": "3.8.8"
  }
 },
 "nbformat": 4,
 "nbformat_minor": 5
}
